{
 "cells": [
  {
   "cell_type": "markdown",
   "metadata": {},
   "source": [
    "# A Pythagorean triplet is a set of three natural numbers, a < b < c, for which,\n",
    "\n",
    "# a^2 + b^2 = c^2\n",
    "# For example, 32 + 42 = 9 + 16 = 25 = 52.\n",
    "\n",
    "# There exists exactly one Pythagorean triplet for which a + b + c = 1000.\n",
    "# Find the product abc."
   ]
  },
  {
   "cell_type": "code",
   "execution_count": 10,
   "metadata": {},
   "outputs": [
    {
     "name": "stdout",
     "output_type": "stream",
     "text": [
      "31875000\n",
      "31875000\n"
     ]
    }
   ],
   "source": [
    "for a in range(100,400):\n",
    "    for b in range(100,400):\n",
    "        for c in range(333,600):\n",
    "            if(a**2 + b**2 == c**2 and a + b + c == 1000): \n",
    "                print(a*b*c)\n",
    "                break"
   ]
  },
  {
   "cell_type": "code",
   "execution_count": 6,
   "metadata": {},
   "outputs": [
    {
     "data": {
      "text/plain": [
       "470.93311627024065"
      ]
     },
     "execution_count": 6,
     "metadata": {},
     "output_type": "execute_result"
    }
   ],
   "source": [
    "from math import sqrt\n",
    "sqrt(2*(333**2))"
   ]
  }
 ],
 "metadata": {
  "kernelspec": {
   "display_name": "Python 3",
   "language": "python",
   "name": "python3"
  },
  "language_info": {
   "codemirror_mode": {
    "name": "ipython",
    "version": 3
   },
   "file_extension": ".py",
   "mimetype": "text/x-python",
   "name": "python",
   "nbconvert_exporter": "python",
   "pygments_lexer": "ipython3",
   "version": "3.6.5"
  }
 },
 "nbformat": 4,
 "nbformat_minor": 2
}
