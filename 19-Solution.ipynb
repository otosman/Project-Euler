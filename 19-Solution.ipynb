{
 "cells": [
  {
   "cell_type": "code",
   "execution_count": 1,
   "metadata": {},
   "outputs": [
    {
     "data": {
      "text/plain": [
       "'\\nYou are given the following information, but you may prefer to do some research for yourself.\\n\\n1 Jan 1900 was a Monday.\\nThirty days has September,\\nApril, June and November.\\nAll the rest have thirty-one,\\nSaving February alone,\\nWhich has twenty-eight, rain or shine.\\nAnd on leap years, twenty-nine.\\nA leap year occurs on any year evenly divisible by 4, but not on a century unless it is divisible by 400.\\nHow many Sundays fell on the first of the month during the twentieth century (1 Jan 1901 to 31 Dec 2000)?\\n'"
      ]
     },
     "execution_count": 1,
     "metadata": {},
     "output_type": "execute_result"
    }
   ],
   "source": [
    "'''\n",
    "You are given the following information, but you may prefer to do some research for yourself.\n",
    "\n",
    "1 Jan 1900 was a Monday.\n",
    "Thirty days has September,\n",
    "April, June and November.\n",
    "All the rest have thirty-one,\n",
    "Saving February alone,\n",
    "Which has twenty-eight, rain or shine.\n",
    "And on leap years, twenty-nine.\n",
    "A leap year occurs on any year evenly divisible by 4, but not on a century unless it is divisible by 400.\n",
    "How many Sundays fell on the first of the month during the twentieth century (1 Jan 1901 to 31 Dec 2000)?\n",
    "'''"
   ]
  },
  {
   "cell_type": "code",
   "execution_count": 5,
   "metadata": {},
   "outputs": [
    {
     "data": {
      "text/plain": [
       "171"
      ]
     },
     "execution_count": 5,
     "metadata": {},
     "output_type": "execute_result"
    }
   ],
   "source": [
    "day_dict = {\n",
    "    1 : 31,\n",
    "    2 : 28,\n",
    "    3 : 31,\n",
    "    4 : 30,\n",
    "    5 : 31,\n",
    "    6 : 30,\n",
    "    7 : 31,\n",
    "    8 :31,\n",
    "    9 : 30,\n",
    "    10 : 31,\n",
    "    11 : 30,\n",
    "    12 : 31\n",
    "}\n",
    "count = 0 \n",
    "day_of_week = 1\n",
    "day = 0\n",
    "for year in range(1901,2001):\n",
    "    if(year % 4 == 0 and year != 2000):\n",
    "        day_dict[2] = 29\n",
    "    else:\n",
    "        day_dict[2] = 28\n",
    "    for month in range(1,13):\n",
    "        day += day_dict[month]\n",
    "        if day % 7 == 0:\n",
    "            count += 1\n",
    "\n",
    "count\n",
    "                \n"
   ]
  },
  {
   "cell_type": "code",
   "execution_count": null,
   "metadata": {},
   "outputs": [],
   "source": []
  }
 ],
 "metadata": {
  "kernelspec": {
   "display_name": "Python 3",
   "language": "python",
   "name": "python3"
  }
 },
 "nbformat": 4,
 "nbformat_minor": 2
}
