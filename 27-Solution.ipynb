{
 "cells": [
  {
   "cell_type": "code",
   "execution_count": null,
   "metadata": {},
   "outputs": [],
   "source": [
    "'''\n",
    "Euler discovered the remarkable quadratic formula:\n",
    "\n",
    "n2+n+41\n",
    "It turns out that the formula will produce 40 primes for the consecutive integer values 0≤n≤39. However, when \n",
    "n=40,402+40+41=40(40+1)+41 is divisible by 41, and certainly when n=41,412+41+41 is clearly divisible by 41.\n",
    "\n",
    "The incredible formula n2−79n+1601 was discovered, which produces 80 primes for the consecutive values 0≤n≤79. \n",
    "The product of the coefficients, −79 and 1601, is −126479.\n",
    "\n",
    "Considering quadratics of the form:\n",
    "\n",
    "n2+an+b, where |a|<1000 and |b|≤1000\n",
    "\n",
    "where |n| is the modulus/absolute value of n\n",
    "e.g. |11|=11 and |−4|=4\n",
    "Find the product of the coefficients, a and b, for the quadratic expression that produces the maximum number of primes \n",
    "for consecutive values of n, starting with n=0.\n",
    "'''\n",
    "\n",
    "\n",
    "##So here for n = 0 we know b must be prime we also 1+a+b = 0 so a must be odd because b must be odd (prime)"
   ]
  },
  {
   "cell_type": "code",
   "execution_count": 8,
   "metadata": {},
   "outputs": [],
   "source": [
    "import numpy as np\n",
    "def isPrime(n):\n",
    "    if n == 2: return True\n",
    "    if(n < 2 or n % 2 ==0): return False\n",
    "    for i in range(3,int(n**.5)+1,2):\n",
    "        if n % i == 0:\n",
    "            return False\n",
    "    return True\n",
    "\n"
   ]
  },
  {
   "cell_type": "code",
   "execution_count": 13,
   "metadata": {},
   "outputs": [
    {
     "data": {
      "text/plain": [
       "[71, -61, 971]"
      ]
     },
     "execution_count": 13,
     "metadata": {},
     "output_type": "execute_result"
    }
   ],
   "source": [
    "maxSeq = [0, 0, 0] # length, a, b\n",
    "for a in range((1000 * -1) + 1, 1000,2):\n",
    "    for b in range(2, 1000):\n",
    "        if isPrime(b):\n",
    "            count = 0\n",
    "            n = 0\n",
    "            while isPrime((n**2) + (a*n) + b):\n",
    "                count += 1\n",
    "                n += 1\n",
    "\n",
    "            if count > maxSeq[0]:\n",
    "                maxSeq = [count, a, b]\n",
    "longest"
   ]
  },
  {
   "cell_type": "code",
   "execution_count": 14,
   "metadata": {},
   "outputs": [
    {
     "data": {
      "text/plain": [
       "-59231"
      ]
     },
     "execution_count": 14,
     "metadata": {},
     "output_type": "execute_result"
    }
   ],
   "source": [
    "longest[1]*longest[2]"
   ]
  }
 ],
 "metadata": {
  "kernelspec": {
   "display_name": "Python 3",
   "language": "python",
   "name": "python3"
  },
  "language_info": {
   "codemirror_mode": {
    "name": "ipython",
    "version": 3
   },
   "file_extension": ".py",
   "mimetype": "text/x-python",
   "name": "python",
   "nbconvert_exporter": "python",
   "pygments_lexer": "ipython3",
   "version": "3.6.5"
  }
 },
 "nbformat": 4,
 "nbformat_minor": 2
}
