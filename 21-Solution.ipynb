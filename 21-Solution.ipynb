{
 "cells": [
  {
   "cell_type": "code",
   "execution_count": null,
   "metadata": {},
   "outputs": [],
   "source": [
    "'''\n",
    "Let d(n) be defined as the sum of proper divisors of n \n",
    "(numbers less than n which divide evenly into n). If d(a) = b and d(b) = a, \n",
    "where a ≠ b, then a and b are an amicable pair and each of a and b \n",
    "are called amicable numbers.\n",
    "\n",
    "For example, the proper divisors of 220 are 1, 2, 4, 5, 10, 11, 20, 22, 44, \n",
    "55 and 110; therefore d(220) = 284. The proper divisors of 284 are \n",
    "1, 2, 4, 71 and 142; so d(284) = 220.\n",
    "\n",
    "Evaluate the sum of all the amicable numbers under 10000.\n",
    "'''"
   ]
  },
  {
   "cell_type": "code",
   "execution_count": 7,
   "metadata": {},
   "outputs": [
    {
     "data": {
      "text/plain": [
       "31626"
      ]
     },
     "execution_count": 7,
     "metadata": {},
     "output_type": "execute_result"
    }
   ],
   "source": [
    "def getDiv(num):\n",
    "    lst = []\n",
    "    for i in range(1,int((num/2))+1):\n",
    "        if num%i == 0:\n",
    "            lst.append(i)\n",
    "    return lst\n",
    "l = []\n",
    "for num in range(1,10000):\n",
    "    n = sum(getDiv(num))\n",
    "    if (sum(getDiv(n)) == num and n != num):\n",
    "        l.append(num)\n",
    "sum(l)"
   ]
  },
  {
   "cell_type": "code",
   "execution_count": null,
   "metadata": {},
   "outputs": [],
   "source": []
  },
  {
   "cell_type": "code",
   "execution_count": null,
   "metadata": {},
   "outputs": [],
   "source": []
  }
 ],
 "metadata": {
  "kernelspec": {
   "display_name": "Python 3",
   "language": "python",
   "name": "python3"
  },
  "language_info": {
   "codemirror_mode": {
    "name": "ipython",
    "version": 3
   },
   "file_extension": ".py",
   "mimetype": "text/x-python",
   "name": "python",
   "nbconvert_exporter": "python",
   "pygments_lexer": "ipython3",
   "version": "3.6.5"
  }
 },
 "nbformat": 4,
 "nbformat_minor": 2
}
