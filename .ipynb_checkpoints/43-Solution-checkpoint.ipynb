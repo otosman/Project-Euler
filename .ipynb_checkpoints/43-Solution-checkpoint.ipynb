{
 "cells": [
  {
   "cell_type": "code",
   "execution_count": null,
   "metadata": {},
   "outputs": [],
   "source": [
    "'''\n",
    "The number, 1406357289, is a 0 to 9 pandigital number\n",
    "because it is made up of each of the digits 0 to 9 in some order,\n",
    "but it also has a rather interesting sub-string divisibility property.\n",
    "\n",
    "Let d1 be the 1st digit, d2 be the 2nd digit, and so on. In this way, we note the following:\n",
    "\n",
    "d2d3d4=406 is divisible by 2\n",
    "d3d4d5=063 is divisible by 3\n",
    "d4d5d6=635 is divisible by 5\n",
    "d5d6d7=357 is divisible by 7\n",
    "d6d7d8=572 is divisible by 11\n",
    "d7d8d9=728 is divisible by 13\n",
    "d8d9d10=289 is divisible by 17\n",
    "Find the sum of all 0 to 9 pandigital numbers with this property.\n",
    "'''"
   ]
  },
  {
   "cell_type": "code",
   "execution_count": 1,
   "metadata": {},
   "outputs": [],
   "source": [
    "from itertools import permutations\n",
    "lst = [2,3,5,7,11,13,17]\n",
    "\n",
    "perms = [int(x) for x in [''.join(p) for p in permutations('0123456789')] if x[0] != '0']"
   ]
  },
  {
   "cell_type": "code",
   "execution_count": 12,
   "metadata": {},
   "outputs": [],
   "source": [
    "def isPandigital(num, size = 9):\n",
    "    if ''.join(sorted(str(num))) == ''.join([str(x) for x in range(0,size+1)]):\n",
    "        return True\n",
    "    else: return False\n",
    "\n",
    "def isDiv(num):\n",
    "    j = 0\n",
    "    x = True\n",
    "    for i in range(1,8):\n",
    "        if int(str(num)[i:i+3]) % lst[j] != 0:\n",
    "            x = False\n",
    "            break\n",
    "        else:\n",
    "            j += 1\n",
    "    return x\n",
    "\n",
    "def isBoth(num):\n",
    "    return (isDiv(num) and isPandigital(num))\n",
    "        \n",
    "    "
   ]
  },
  {
   "cell_type": "code",
   "execution_count": 15,
   "metadata": {},
   "outputs": [],
   "source": [
    "tot = 0\n",
    "for num in perms:\n",
    "    if isBoth(num): tot += num\n",
    "tot"
   ]
  },
  {
   "cell_type": "code",
   "execution_count": 16,
   "metadata": {},
   "outputs": [
    {
     "data": {
      "text/plain": [
       "16695334890"
      ]
     },
     "execution_count": 16,
     "metadata": {},
     "output_type": "execute_result"
    }
   ],
   "source": [
    "tot"
   ]
  },
  {
   "cell_type": "code",
   "execution_count": null,
   "metadata": {},
   "outputs": [],
   "source": []
  }
 ],
 "metadata": {
  "kernelspec": {
   "display_name": "Python 3",
   "language": "python",
   "name": "python3"
  },
  "language_info": {
   "codemirror_mode": {
    "name": "ipython",
    "version": 3
   },
   "file_extension": ".py",
   "mimetype": "text/x-python",
   "name": "python",
   "nbconvert_exporter": "python",
   "pygments_lexer": "ipython3",
   "version": "3.6.5"
  }
 },
 "nbformat": 4,
 "nbformat_minor": 2
}
