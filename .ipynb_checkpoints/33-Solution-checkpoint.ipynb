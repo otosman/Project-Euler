{
 "cells": [
  {
   "cell_type": "code",
   "execution_count": null,
   "metadata": {},
   "outputs": [],
   "source": [
    "'''\n",
    "The fraction 49/98 is a curious fraction, as an inexperienced mathematician in attempting to simplify it may incorrectly believe that 49/98 = 4/8, which is correct, is obtained by cancelling the 9s.\n",
    "\n",
    "We shall consider fractions like, 30/50 = 3/5, to be trivial examples.\n",
    "\n",
    "There are exactly four non-trivial examples of this type of fraction, less than one in value, and containing two digits in the numerator and denominator.\n",
    "\n",
    "If the product of these four fractions is given in its lowest common terms, find the value of the denominator.\n",
    "'''"
   ]
  },
  {
   "cell_type": "code",
   "execution_count": 26,
   "metadata": {},
   "outputs": [
    {
     "data": {
      "text/plain": [
       "Fraction(1, 100)"
      ]
     },
     "execution_count": 26,
     "metadata": {},
     "output_type": "execute_result"
    }
   ],
   "source": [
    "from fractions import Fraction\n",
    "import numpy as np\n",
    "lst = [x for x in range(11,100) if x % 10 != 0 ]\n",
    "numerator =1 \n",
    "denominator =1\n",
    "for i in lst:\n",
    "    for j in range(i+1,100):\n",
    "        temp1  = i / j\n",
    "        l1 = [int(x) for x in list(str(i))]\n",
    "        l2 = [int(x) for x in list(str(j))]\n",
    "        for num in l1:\n",
    "            if num in l2:\n",
    "                l1.remove(num)\n",
    "                l2.remove(num)\n",
    "                if(l2[0] != 0 and l1[0]/l2[0]/temp1 == 1):\n",
    "                    numerator *= i\n",
    "                    denominator *= j\n",
    "Fraction(numerator, denominator)"
   ]
  }
 ],
 "metadata": {
  "kernelspec": {
   "display_name": "Python 3",
   "language": "python",
   "name": "python3"
  },
  "language_info": {
   "codemirror_mode": {
    "name": "ipython",
    "version": 3
   },
   "file_extension": ".py",
   "mimetype": "text/x-python",
   "name": "python",
   "nbconvert_exporter": "python",
   "pygments_lexer": "ipython3",
   "version": "3.6.5"
  }
 },
 "nbformat": 4,
 "nbformat_minor": 2
}
