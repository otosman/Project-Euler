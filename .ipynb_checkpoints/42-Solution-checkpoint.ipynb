{
 "cells": [
  {
   "cell_type": "code",
   "execution_count": null,
   "metadata": {},
   "outputs": [],
   "source": [
    "'''\n",
    "The nth term of the sequence of triangle numbers is given by, tn = ½n(n+1); so the first ten triangle numbers are:\n",
    "\n",
    "1, 3, 6, 10, 15, 21, 28, 36, 45, 55, ...\n",
    "\n",
    "By converting each letter in a word to a number corresponding to its \n",
    "alphabetical position and adding these values we form a word value. \n",
    "For example, the word value for SKY is 19 + 11 + 25 = 55 = t10. \n",
    "If the word value is a triangle number then we shall call the word a triangle word.\n",
    "\n",
    "Using words.txt (right click and 'Save Link/Target As...'), a 16K text file \n",
    "containing nearly two-thousand common English words, how many are triangle words?\n",
    "'''\n"
   ]
  },
  {
   "cell_type": "code",
   "execution_count": 1,
   "metadata": {},
   "outputs": [],
   "source": [
    "import string\n",
    "#so I think the best to do this is do define a couple helper functions...There is probably a less verbose way to this, but this\n",
    "#is robust and keeps things easy to read\n",
    "\n",
    "#generate triangle numbers\n",
    "def genTri(n):\n",
    "    lst = []\n",
    "    for i in range(1,n+1):\n",
    "        lst.append(int(.5*i*(i+1)))\n",
    "    return lst\n",
    "\n",
    "#is a sum a triangular #\n",
    "def isTri(num,size=100):\n",
    "    lst = genTri(size)\n",
    "    return num in lst\n",
    "\n",
    "#getting a word score\n",
    "def wordScore(s):\n",
    "    string = 'abcdefghijklmnopqrstuvwxyz'\n",
    "    values = dict()\n",
    "    tot = 0\n",
    "    for index, letter in enumerate(string):\n",
    "       values[letter] = index + 1\n",
    "    for c in list(s):\n",
    "        tot += values[c]\n",
    "    return tot"
   ]
  },
  {
   "cell_type": "code",
   "execution_count": 4,
   "metadata": {},
   "outputs": [
    {
     "data": {
      "text/plain": [
       "162"
      ]
     },
     "execution_count": 4,
     "metadata": {},
     "output_type": "execute_result"
    }
   ],
   "source": [
    "###ok now that thats done lets read in the file\n",
    "with open('p042_words.txt', 'r') as f:\n",
    "    data = []\n",
    "    for l in f:\n",
    "        data.extend(l.replace('\"','').split(','))\n",
    "count = 0\n",
    "for item in data:\n",
    "    if isTri(wordScore(item.lower())): count += 1\n",
    "count"
   ]
  },
  {
   "cell_type": "code",
   "execution_count": null,
   "metadata": {},
   "outputs": [],
   "source": []
  }
 ],
 "metadata": {
  "kernelspec": {
   "display_name": "Python 3",
   "language": "python",
   "name": "python3"
  },
  "language_info": {
   "codemirror_mode": {
    "name": "ipython",
    "version": 3
   },
   "file_extension": ".py",
   "mimetype": "text/x-python",
   "name": "python",
   "nbconvert_exporter": "python",
   "pygments_lexer": "ipython3",
   "version": "3.6.5"
  }
 },
 "nbformat": 4,
 "nbformat_minor": 2
}
