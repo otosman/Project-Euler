{
 "cells": [
  {
   "cell_type": "code",
   "execution_count": null,
   "metadata": {},
   "outputs": [],
   "source": [
    "'''\n",
    "The number 3797 has an interesting property. Being prime itself, \n",
    "it is possible to continuously remove digits from left to right, \n",
    "and remain prime at each stage: 3797, 797, 97, and 7. \n",
    "Similarly we can work from right to left: 3797, 379, 37, and 3.\n",
    "\n",
    "Find the sum of the only eleven primes that are both \n",
    "truncatable from left to right and right to left.\n",
    "\n",
    "NOTE: 2, 3, 5, and 7 are not considered to be truncatable primes.\n",
    "'''\n"
   ]
  },
  {
   "cell_type": "code",
   "execution_count": 22,
   "metadata": {},
   "outputs": [],
   "source": [
    "def isPrime(n):\n",
    "    if n == 2: return True\n",
    "    if(n < 2 or n % 2 ==0): return False\n",
    "    for i in range(3,int(n**.5)+1,2):\n",
    "        if n % i == 0:\n",
    "            return False\n",
    "    return True\n",
    "\n",
    "def truncPrime(num):\n",
    "    size = len(str(num))\n",
    "    n = str(num)\n",
    "    z = n\n",
    "    x = False\n",
    "    if '0' in n:\n",
    "        return x\n",
    "    for i in range(size):\n",
    "        if len(n) == 1 and isPrime(int(n)) and isPrime(int(z)): \n",
    "            x = True\n",
    "        elif isPrime(int(n)) and isPrime(int(z)):\n",
    "            n = n[1:]\n",
    "            z = z[:-1]\n",
    "        else:\n",
    "            break\n",
    "    return x\n",
    "        \n",
    "        "
   ]
  },
  {
   "cell_type": "code",
   "execution_count": 23,
   "metadata": {},
   "outputs": [
    {
     "data": {
      "text/plain": [
       "748317"
      ]
     },
     "execution_count": 23,
     "metadata": {},
     "output_type": "execute_result"
    }
   ],
   "source": [
    "sum([x for x in range(11,1000000) if truncPrime(x)])"
   ]
  },
  {
   "cell_type": "code",
   "execution_count": 24,
   "metadata": {},
   "outputs": [
    {
     "data": {
      "text/plain": [
       "[23, 37, 53, 73, 313, 317, 373, 797, 3137, 3797, 739397]"
      ]
     },
     "execution_count": 24,
     "metadata": {},
     "output_type": "execute_result"
    }
   ],
   "source": [
    "[x for x in range(11,1000000) if truncPrime(x)]"
   ]
  },
  {
   "cell_type": "code",
   "execution_count": 21,
   "metadata": {},
   "outputs": [
    {
     "data": {
      "text/plain": [
       "False"
      ]
     },
     "execution_count": 21,
     "metadata": {},
     "output_type": "execute_result"
    }
   ],
   "source": []
  }
 ],
 "metadata": {
  "kernelspec": {
   "display_name": "Python 3",
   "language": "python",
   "name": "python3"
  },
  "language_info": {
   "codemirror_mode": {
    "name": "ipython",
    "version": 3
   },
   "file_extension": ".py",
   "mimetype": "text/x-python",
   "name": "python",
   "nbconvert_exporter": "python",
   "pygments_lexer": "ipython3",
   "version": "3.6.5"
  }
 },
 "nbformat": 4,
 "nbformat_minor": 2
}
