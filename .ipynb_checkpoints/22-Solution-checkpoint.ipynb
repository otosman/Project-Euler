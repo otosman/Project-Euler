{
 "cells": [
  {
   "cell_type": "code",
   "execution_count": null,
   "metadata": {},
   "outputs": [],
   "source": [
    "'''\n",
    "Using names.txt (right click and 'Save Link/Target As...'), \n",
    "a 46K text file containing over five-thousand first names, \n",
    "begin by sorting it into alphabetical order. \n",
    "Then working out the alphabetical value for each name, \n",
    "multiply this value by its alphabetical position in the \n",
    "list to obtain a name score.\n",
    "\n",
    "For example, when the list is sorted into alphabetical order, \n",
    "COLIN, which is worth 3 + 15 + 12 + 9 + 14 = 53, \n",
    "is the 938th name in the list. \n",
    "So, COLIN would obtain a score of 938 × 53 = 49714.\n",
    "\n",
    "What is the total of all the name scores in the file?\n",
    "'''"
   ]
  },
  {
   "cell_type": "code",
   "execution_count": 25,
   "metadata": {},
   "outputs": [],
   "source": [
    "alph = 'abcdefghijklmnopqrstuvwxyz'\n",
    "d = {}\n",
    "for i,a in enumerate(list(alph.upper())):\n",
    "    d[a] = i+1\n"
   ]
  },
  {
   "cell_type": "code",
   "execution_count": 35,
   "metadata": {},
   "outputs": [
    {
     "data": {
      "text/plain": [
       "871198282"
      ]
     },
     "execution_count": 35,
     "metadata": {},
     "output_type": "execute_result"
    }
   ],
   "source": [
    "txt_file = open('p022_names.txt', 'r')\n",
    "lines = txt_file.read().replace('\"','').split(',')\n",
    "lines = sorted(lines)\n",
    "s = 0 \n",
    "for i in range(0,len(lines)):\n",
    "    ss = 0\n",
    "    for elem in lines[i]:\n",
    "        ss += int(d.get(elem,0))\n",
    "    s += ss*(i+1)\n",
    "s\n",
    "        \n",
    "    "
   ]
  },
  {
   "cell_type": "code",
   "execution_count": null,
   "metadata": {},
   "outputs": [],
   "source": []
  }
 ],
 "metadata": {
  "kernelspec": {
   "display_name": "Python 3",
   "language": "python",
   "name": "python3"
  },
  "language_info": {
   "codemirror_mode": {
    "name": "ipython",
    "version": 3
   },
   "file_extension": ".py",
   "mimetype": "text/x-python",
   "name": "python",
   "nbconvert_exporter": "python",
   "pygments_lexer": "ipython3",
   "version": "3.6.5"
  }
 },
 "nbformat": 4,
 "nbformat_minor": 2
}
