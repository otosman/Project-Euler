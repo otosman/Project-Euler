{
 "cells": [
  {
   "cell_type": "code",
   "execution_count": null,
   "metadata": {},
   "outputs": [],
   "source": [
    "'''\n",
    "find the max sum in by traversing this triangle\n",
    "75\n",
    "95 64\n",
    "17 47 82\n",
    "18 35 87 10\n",
    "20 04 82 47 65\n",
    "19 01 23 75 03 34\n",
    "88 02 77 73 07 63 67\n",
    "99 65 04 28 06 16 70 92\n",
    "41 41 26 56 83 40 80 70 33\n",
    "41 48 72 33 47 32 37 16 94 29\n",
    "53 71 44 65 25 43 91 52 97 51 14\n",
    "70 11 33 28 77 73 17 78 39 68 17 57\n",
    "91 71 52 38 17 14 91 43 58 50 27 29 48\n",
    "63 66 04 68 89 53 67 30 73 16 69 87 40 31\n",
    "04 62 98 27 23 09 70 98 73 93 38 53 60 04 23\n",
    "\n",
    "NOTE: As there are only 16384 routes, it is possible to solve this problem by trying every route. \n",
    "However, Problem 67, is the same challenge with a triangle containing one-hundred rows; \n",
    "it cannot be solved by brute force, and requires a clever method! ;o)'''"
   ]
  },
  {
   "cell_type": "code",
   "execution_count": 9,
   "metadata": {},
   "outputs": [],
   "source": [
    "import numpy as np\n",
    "#lets initialize the list\n",
    "l = [[75],\n",
    "[95,64],\n",
    "[17,47,82],\n",
    "[18,35,87,10],\n",
    "[20,4,82,47,65],\n",
    "[19,1,23,75,3,34],\n",
    "[88,2,77,73,7,63,67],\n",
    "[99,65,4,28,6,16,70,92],\n",
    "[41,41,26,56,83,40,80,70,33],\n",
    "[41,48,72,33,47,32,37,16,94,29],\n",
    "[53,71,44,65,25,43,91,52,97,51,14],\n",
    "[70,11,33,28,77,73,17,78,39,68,17,57],\n",
    "[91,71,52,38,17,14,91,43,58,50,27,29,48],\n",
    "[63,66,4,68,89,53,67,30,73,16,69,87,40,31],\n",
    "[4,62,98,27,23,9,70,98,73,93,38,53,60,4,23]]"
   ]
  },
  {
   "cell_type": "code",
   "execution_count": 5,
   "metadata": {
    "scrolled": false
   },
   "outputs": [
    {
     "data": {
      "text/plain": [
       "1074"
      ]
     },
     "execution_count": 5,
     "metadata": {},
     "output_type": "execute_result"
    }
   ],
   "source": [
    "#initialize a variable to meausure the positon\n",
    "list_paths = [[0]]\n",
    "\n",
    "i = 0\n",
    "#populate each list with 0's for a left move and 1's for a right move\n",
    "while i != 14:\n",
    "    i += 1\n",
    "    list_new = []\n",
    "    for path in list_paths:\n",
    "        for j in [0,1]:\n",
    "            path_extended = path+[j]\n",
    "            list_new.append(path_extended)\n",
    "    list_paths = list_new\n",
    "#now we sum the left and right 'decisions' go get the position of each path as it moves down the waterfall\n",
    "list_paths_cumulative = np.cumsum(list_paths, axis = 1, dtype=np.int64)        \n",
    "\n",
    "#now we have all the paths lets just get the max by iterating through each list\n",
    "m = 0\n",
    "s= 0\n",
    "for path in list_paths_cumulative:\n",
    "    s=0\n",
    "    for i in range(0,15):\n",
    "        s += l[i][path[i]]\n",
    "        if i == 14:\n",
    "            if s > m : \n",
    "                m = s\n",
    "m"
   ]
  },
  {
   "cell_type": "code",
   "execution_count": 10,
   "metadata": {},
   "outputs": [
    {
     "data": {
      "text/plain": [
       "'so now we have n x n, in this case n=15, list of lists, a matrix, so we can do our operations.\\nit makes sense to reverse iterate thru the lst adding the max to each row'"
      ]
     },
     "execution_count": 10,
     "metadata": {},
     "output_type": "execute_result"
    }
   ],
   "source": [
    "###This is one Solution, but can we do this in a more programmatic way...saw online that one approach is to go from bottom up\n",
    "\n",
    "### first lets make this list of lists equal length\n",
    "longestLen = len(max(l,key = len))\n",
    "for lst in l:\n",
    "    lst += [0]*(longestLen-len(lst))\n",
    "'''so now we have n x n, in this case n=15, list of lists, a matrix, so we can do our operations.\n",
    "it makes sense to reverse iterate thru the lst adding the max to each row'''"
   ]
  },
  {
   "cell_type": "code",
   "execution_count": 11,
   "metadata": {},
   "outputs": [
    {
     "data": {
      "text/plain": [
       "[[1074],\n",
       " [995, 999],\n",
       " [818, 900, 935],\n",
       " [704, 801, 853, 792],\n",
       " [686, 640, 766, 731, 782],\n",
       " [666, 614, 636, 684, 660, 717],\n",
       " [647, 501, 613, 609, 533, 657, 683],\n",
       " [559, 499, 479, 536, 514, 526, 594, 616],\n",
       " [460, 434, 419, 475, 508, 470, 510, 524, 487],\n",
       " [419, 365, 393, 387, 419, 425, 430, 376, 454, 322],\n",
       " [378, 317, 231, 321, 354, 372, 393, 354, 360, 293, 247],\n",
       " [325, 246, 187, 178, 256, 329, 273, 302, 263, 242, 193, 233],\n",
       " [255, 235, 154, 150, 140, 179, 256, 209, 224, 172, 174, 176, 148],\n",
       " [125, 164, 102, 95, 112, 123, 165, 128, 166, 109, 122, 147, 100, 54],\n",
       " [4, 62, 98, 27, 23, 9, 70, 98, 73, 93, 38, 53, 60, 4, 23]]"
      ]
     },
     "execution_count": 11,
     "metadata": {},
     "output_type": "execute_result"
    }
   ],
   "source": [
    "#Start at the last row and iterate upward\n",
    "for i in range(longestLen - 1,0,-1):\n",
    "    #make a temp list to store the sum of the max of the lower row and the current row\n",
    "    temp_lst = []\n",
    "    for j in range(0,i):\n",
    "        #here we populate the temp list \n",
    "        temp_lst += [l[i-1][j] + max(l[i][j],l[i][j+1])]\n",
    "    #set the lower row equal to temp\n",
    "    l[i-1] = temp_lst\n",
    "        \n",
    "l    \n"
   ]
  },
  {
   "cell_type": "code",
   "execution_count": 7,
   "metadata": {},
   "outputs": [
    {
     "data": {
      "text/plain": [
       "[[75, 0, 0, 0, 0, 0, 0, 0, 0, 0, 0, 0, 0, 0, 0],\n",
       " [95, 64, 0, 0, 0, 0, 0, 0, 0, 0, 0, 0, 0, 0, 0],\n",
       " [17, 47, 82, 0, 0, 0, 0, 0, 0, 0, 0, 0, 0, 0, 0],\n",
       " [18, 35, 87, 10, 0, 0, 0, 0, 0, 0, 0, 0, 0, 0, 0],\n",
       " [20, 4, 82, 47, 65, 0, 0, 0, 0, 0, 0, 0, 0, 0, 0],\n",
       " [19, 1, 23, 75, 3, 34, 0, 0, 0, 0, 0, 0, 0, 0, 0],\n",
       " [88, 2, 77, 73, 7, 63, 67, 0, 0, 0, 0, 0, 0, 0, 0],\n",
       " [99, 65, 4, 28, 6, 16, 70, 92, 0, 0, 0, 0, 0, 0, 0],\n",
       " [41, 41, 26, 56, 83, 40, 80, 70, 33, 0, 0, 0, 0, 0, 0],\n",
       " [41, 48, 72, 33, 47, 32, 37, 16, 94, 29, 0, 0, 0, 0, 0],\n",
       " [53, 71, 44, 65, 25, 43, 91, 52, 97, 51, 14, 0, 0, 0, 0],\n",
       " [70, 11, 33, 28, 77, 73, 17, 78, 39, 68, 17, 57, 0, 0, 0],\n",
       " [91, 71, 52, 38, 17, 14, 91, 43, 58, 50, 27, 29, 48, 0, 0],\n",
       " [63, 66, 4, 68, 89, 53, 67, 30, 73, 16, 69, 87, 40, 31, 0],\n",
       " [4, 62, 98, 27, 23, 9, 70, 98, 73, 93, 38, 53, 60, 4, 23]]"
      ]
     },
     "execution_count": 7,
     "metadata": {},
     "output_type": "execute_result"
    }
   ],
   "source": [
    "l"
   ]
  }
 ],
 "metadata": {
  "kernelspec": {
   "display_name": "Python 3",
   "language": "python",
   "name": "python3"
  },
  "language_info": {
   "codemirror_mode": {
    "name": "ipython",
    "version": 3
   },
   "file_extension": ".py",
   "mimetype": "text/x-python",
   "name": "python",
   "nbconvert_exporter": "python",
   "pygments_lexer": "ipython3",
   "version": "3.6.5"
  }
 },
 "nbformat": 4,
 "nbformat_minor": 2
}
