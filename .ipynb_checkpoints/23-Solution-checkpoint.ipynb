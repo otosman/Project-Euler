{
 "cells": [
  {
   "cell_type": "code",
   "execution_count": null,
   "metadata": {},
   "outputs": [],
   "source": [
    "'''\n",
    "A perfect number is a number for which the sum of its proper divisors\n",
    "is exactly equal to the number. For example, the sum of the proper divisors \n",
    "of 28 would be 1 + 2 + 4 + 7 + 14 = 28, which means that 28 is a perfect number.\n",
    "\n",
    "A number n is called deficient if the sum of its proper divisors is \n",
    "less than n and it is called abundant if this sum exceeds n.\n",
    "\n",
    "As 12 is the smallest abundant number, 1 + 2 + 3 + 4 + 6 = 16, \n",
    "the smallest number that can be written as the sum of two abundant \n",
    "numbers is 24. By mathematical analysis, it can be shown that all integers \n",
    "greater than 28123 can be written as the sum of two abundant numbers. \n",
    "However, this upper limit cannot be reduced any further by analysis even \n",
    "though it is known that the greatest number that cannot be expressed as \n",
    "the sum of two abundant numbers is less than this limit.\n",
    "\n",
    "Find the sum of all the positive integers which cannot be written as \n",
    "the sum of two abundant numbers.\n",
    "'''"
   ]
  },
  {
   "cell_type": "code",
   "execution_count": 5,
   "metadata": {},
   "outputs": [],
   "source": [
    "import numpy as np\n",
    "def getDiv(n):\n",
    "    array = np.arange(1,n//2+1)\n",
    "    divisors = n/array\n",
    "    divisors = array[np.modf(divisors)[0]==0]\n",
    "    return np.sum(divisors)\n",
    "def getAbun(ran):\n",
    "    l = []\n",
    "    for i in range(12,ran+1):\n",
    "        if getDiv(i) > i:\n",
    "            l.append(i)\n",
    "    return l\n",
    "abun = getAbun(28213)\n"
   ]
  },
  {
   "cell_type": "code",
   "execution_count": 44,
   "metadata": {},
   "outputs": [
    {
     "data": {
      "text/plain": [
       "4179871"
      ]
     },
     "execution_count": 44,
     "metadata": {},
     "output_type": "execute_result"
    }
   ],
   "source": [
    "all_sums = np.repeat(np.array(abun)[:,np.newaxis],len(abun),axis=1).T+np.array(abun)[:,np.newaxis]\n",
    "sum_set = set(all_sums.flatten())\n",
    "test_set = set(np.arange(1,28124))\n",
    "sum(test_set.difference(sum_set))"
   ]
  },
  {
   "cell_type": "code",
   "execution_count": null,
   "metadata": {},
   "outputs": [],
   "source": [
    "\n",
    "\n"
   ]
  },
  {
   "cell_type": "code",
   "execution_count": null,
   "metadata": {},
   "outputs": [],
   "source": []
  }
 ],
 "metadata": {
  "kernelspec": {
   "display_name": "Python 3",
   "language": "python",
   "name": "python3"
  }
 },
 "nbformat": 4,
 "nbformat_minor": 2
}
