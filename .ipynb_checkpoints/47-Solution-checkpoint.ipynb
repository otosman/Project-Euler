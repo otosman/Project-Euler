{
 "cells": [
  {
   "cell_type": "code",
   "execution_count": null,
   "metadata": {},
   "outputs": [],
   "source": [
    "'''\n",
    "The first two consecutive numbers to have two distinct prime factors are:\n",
    "\n",
    "14 = 2 × 7\n",
    "15 = 3 × 5\n",
    "\n",
    "The first three consecutive numbers to have three distinct prime factors are:\n",
    "\n",
    "644 = 2² × 7 × 23\n",
    "645 = 3 × 5 × 43\n",
    "646 = 2 × 17 × 19.\n",
    "\n",
    "Find the first four consecutive integers to have four distinct prime factors each. What is the first of these numbers?len(checkFactors(i))==4\n",
    "'''"
   ]
  },
  {
   "cell_type": "code",
   "execution_count": 2,
   "metadata": {},
   "outputs": [],
   "source": [
    "def checkFactors(n):\n",
    "    count = 0 \n",
    "    if n % 2 == 0:\n",
    "        count += 1\n",
    "    while(n%2 == 0):\n",
    "        n = n/2\n",
    "    \n",
    "    nextPrime = 3 \n",
    "    \n",
    "    while n != 1:\n",
    "        if n % nextPrime == 0:\n",
    "            count += 1\n",
    "        while n % nextPrime == 0:\n",
    "            n = n/nextPrime\n",
    "        nextPrime += 2\n",
    "    return count"
   ]
  },
  {
   "cell_type": "code",
   "execution_count": 3,
   "metadata": {},
   "outputs": [
    {
     "name": "stdout",
     "output_type": "stream",
     "text": [
      "134043\n"
     ]
    }
   ],
   "source": [
    "j=2000\n",
    "while True:\n",
    "    if checkFactors(j) == 4:\n",
    "        j += 1\n",
    "        if checkFactors(j) == 4:\n",
    "            j += 1\n",
    "            if checkFactors(j) == 4:\n",
    "                j += 1\n",
    "                if checkFactors(j) == 4:\n",
    "                    print(j-3)\n",
    "                    break\n",
    "    j+=1\n",
    "\n",
    "    "
   ]
  },
  {
   "cell_type": "code",
   "execution_count": null,
   "metadata": {},
   "outputs": [],
   "source": []
  },
  {
   "cell_type": "code",
   "execution_count": null,
   "metadata": {},
   "outputs": [],
   "source": []
  }
 ],
 "metadata": {
  "kernelspec": {
   "display_name": "Python 3",
   "language": "python",
   "name": "python3"
  },
  "language_info": {
   "codemirror_mode": {
    "name": "ipython",
    "version": 3
   },
   "file_extension": ".py",
   "mimetype": "text/x-python",
   "name": "python",
   "nbconvert_exporter": "python",
   "pygments_lexer": "ipython3",
   "version": "3.6.5"
  }
 },
 "nbformat": 4,
 "nbformat_minor": 2
}
