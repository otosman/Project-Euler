{
 "cells": [
  {
   "cell_type": "code",
   "execution_count": 2,
   "metadata": {},
   "outputs": [
    {
     "data": {
      "text/plain": [
       "'The following iterative sequence is defined for the set of positive integers:\\n\\nn → n/2 (n is even)\\nn → 3n + 1 (n is odd)\\n\\nUsing the rule above and starting with 13, we generate the following sequence:\\n\\n13 → 40 → 20 → 10 → 5 → 16 → 8 → 4 → 2 → 1\\nIt can be seen that this sequence (starting at 13 and finishing at 1) contains 10 terms. Although it has not been proved yet (Collatz Problem), it is thought that all starting numbers finish at 1.\\n\\nWhich starting number, under one million, produces the longest chain?\\n\\nNOTE: Once the chain starts the terms are allowed to go above one million. '"
      ]
     },
     "execution_count": 2,
     "metadata": {},
     "output_type": "execute_result"
    }
   ],
   "source": [
    "'''The following iterative sequence is defined for the set of positive integers:\n",
    "\n",
    "n → n/2 (n is even)\n",
    "n → 3n + 1 (n is odd)\n",
    "\n",
    "Using the rule above and starting with 13, we generate the following sequence:\n",
    "\n",
    "13 → 40 → 20 → 10 → 5 → 16 → 8 → 4 → 2 → 1\n",
    "It can be seen that this sequence (starting at 13 and finishing at 1) contains 10 terms. Although it has not been proved yet (Collatz Problem), it is thought that all starting numbers finish at 1.\n",
    "\n",
    "Which starting number, under one million, produces the longest chain?\n",
    "\n",
    "NOTE: Once the chain starts the terms are allowed to go above one million. '''"
   ]
  },
  {
   "cell_type": "code",
   "execution_count": 12,
   "metadata": {},
   "outputs": [],
   "source": [
    "def seqLen(n):\n",
    "    count = 1\n",
    "    while n != 1:\n",
    "        count += 1\n",
    "        if n % 2 == 0:\n",
    "            n = n /2 \n",
    "        else:\n",
    "            n = 3*n +1\n",
    "    return count\n",
    "\n",
    "def getMaxSeq(n):\n",
    "    num = n\n",
    "    m = 0\n",
    "    maxNum =0 \n",
    "    while num > 1:\n",
    "        temp = seqLen(num)\n",
    "        if temp > m : \n",
    "            m = temp\n",
    "            maxNum = num\n",
    "        num -= 1\n",
    "    return maxNum\n",
    "    "
   ]
  },
  {
   "cell_type": "code",
   "execution_count": 13,
   "metadata": {},
   "outputs": [
    {
     "data": {
      "text/plain": [
       "837799"
      ]
     },
     "execution_count": 13,
     "metadata": {},
     "output_type": "execute_result"
    }
   ],
   "source": [
    "getMaxSeq(1000000)"
   ]
  }
 ],
 "metadata": {
  "kernelspec": {
   "display_name": "Python 3",
   "language": "python",
   "name": "python3"
  },
  "language_info": {
   "codemirror_mode": {
    "name": "ipython",
    "version": 3
   },
   "file_extension": ".py",
   "mimetype": "text/x-python",
   "name": "python",
   "nbconvert_exporter": "python",
   "pygments_lexer": "ipython3",
   "version": "3.6.5"
  }
 },
 "nbformat": 4,
 "nbformat_minor": 2
}
