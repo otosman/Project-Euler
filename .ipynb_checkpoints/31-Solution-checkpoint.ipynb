{
 "cells": [
  {
   "cell_type": "code",
   "execution_count": null,
   "metadata": {},
   "outputs": [],
   "source": [
    "'''\n",
    "In England the currency is made up of pound, £, and pence, p, and there are eight coins in general circulation:\n",
    "\n",
    "1p, 2p, 5p, 10p, 20p, 50p, £1 (100p) and £2 (200p).\n",
    "It is possible to make £2 in the following way:\n",
    "\n",
    "1×£1 + 1×50p + 2×20p + 1×5p + 1×2p + 3×1p\n",
    "How many different ways can £2 be made using any number of coins?\n",
    "'''"
   ]
  },
  {
   "cell_type": "code",
   "execution_count": 1,
   "metadata": {},
   "outputs": [
    {
     "data": {
      "text/plain": [
       "73682"
      ]
     },
     "execution_count": 1,
     "metadata": {},
     "output_type": "execute_result"
    }
   ],
   "source": [
    "#recursive way\n",
    "def getWays(trgt, lst):\n",
    "    l = lst\n",
    "    ways = [1] + [0]*trgt\n",
    "    for x in l:\n",
    "        for i in range(x,trgt+1):\n",
    "            ways[i] += ways[i-x]\n",
    "    return ways[trgt]\n",
    "getWays(200,[1,2,5,10,20,50,100,200])"
   ]
  },
  {
   "cell_type": "code",
   "execution_count": 13,
   "metadata": {},
   "outputs": [
    {
     "name": "stdout",
     "output_type": "stream",
     "text": [
      "1\n",
      "2\n",
      "5\n",
      "20\n",
      "50\n",
      "100\n",
      "200\n"
     ]
    }
   ],
   "source": []
  }
 ],
 "metadata": {
  "kernelspec": {
   "display_name": "Python 3",
   "language": "python",
   "name": "python3"
  },
  "language_info": {
   "codemirror_mode": {
    "name": "ipython",
    "version": 3
   },
   "file_extension": ".py",
   "mimetype": "text/x-python",
   "name": "python",
   "nbconvert_exporter": "python",
   "pygments_lexer": "ipython3",
   "version": "3.6.5"
  }
 },
 "nbformat": 4,
 "nbformat_minor": 2
}
