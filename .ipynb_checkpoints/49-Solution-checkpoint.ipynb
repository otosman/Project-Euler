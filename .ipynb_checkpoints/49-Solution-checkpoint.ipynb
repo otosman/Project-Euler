{
 "cells": [
  {
   "cell_type": "code",
   "execution_count": null,
   "metadata": {},
   "outputs": [],
   "source": [
    "'''\n",
    "The arithmetic sequence, 1487, 4817, 8147, in which each of the terms increases by 3330, is unusual in two ways:\n",
    "(i) each of the three terms are prime, and, \n",
    "(ii) each of the 4-digit numbers are permutations of one another.\n",
    "\n",
    "There are no arithmetic sequences made up of three 1-, 2-, or 3-digit primes, \n",
    "exhibiting this property, but there is one other 4-digit increasing sequence.\n",
    "\n",
    "What 12-digit number do you form by concatenating the three terms in this sequence?\n",
    "'''"
   ]
  },
  {
   "cell_type": "code",
   "execution_count": 20,
   "metadata": {},
   "outputs": [
    {
     "name": "stdout",
     "output_type": "stream",
     "text": [
      "148748178147\n",
      "296962999629\n"
     ]
    }
   ],
   "source": [
    "def isPrime(n):\n",
    "    if n == 2: return True\n",
    "    if(n < 2 or n % 2 ==0): return False\n",
    "    for i in range(3,int(n**.5)+1,2):\n",
    "        if n % i == 0:\n",
    "            return False\n",
    "    return True\n",
    "primes = [x for x in range(1000,10000) if isPrime(x) and '0' not in str(x)]\n",
    "string =''\n",
    "for i in range(0,len(primes)):\n",
    "    for j in range(i+1,len(primes)):\n",
    "        k = primes[j] + (primes[j]-primes[i])\n",
    "        if k in primes and ''.join(sorted(str(k))) == ''.join(sorted(str(primes[i]))) and ''.join(sorted(str(k))) == ''.join(sorted(str(primes[j]))):\n",
    "            string = str(primes[i])+str(primes[j])+str(k)\n",
    "            print(string)\n",
    "\n",
    "            \n"
   ]
  },
  {
   "cell_type": "code",
   "execution_count": 17,
   "metadata": {},
   "outputs": [
    {
     "data": {
      "text/plain": [
       "True"
      ]
     },
     "execution_count": 17,
     "metadata": {},
     "output_type": "execute_result"
    }
   ],
   "source": [
    "''.join(sorted(str(1487))) == ''.join(sorted(str(8147)))\n"
   ]
  }
 ],
 "metadata": {
  "kernelspec": {
   "display_name": "Python 3",
   "language": "python",
   "name": "python3"
  },
  "language_info": {
   "codemirror_mode": {
    "name": "ipython",
    "version": 3
   },
   "file_extension": ".py",
   "mimetype": "text/x-python",
   "name": "python",
   "nbconvert_exporter": "python",
   "pygments_lexer": "ipython3",
   "version": "3.6.5"
  }
 },
 "nbformat": 4,
 "nbformat_minor": 2
}
