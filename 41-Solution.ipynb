{
 "cells": [
  {
   "cell_type": "code",
   "execution_count": null,
   "metadata": {},
   "outputs": [],
   "source": [
    "'''\n",
    "We shall say that an n-digit number is pandigital if it makes use of all the digits 1 to n exactly once. \n",
    "For example, 2143 is a 4-digit pandigital and is also prime.\n",
    "\n",
    "What is the largest n-digit pandigital prime that exists?\n",
    "'''"
   ]
  },
  {
   "cell_type": "code",
   "execution_count": 1,
   "metadata": {},
   "outputs": [],
   "source": [
    "def isPandigital(num, size = 9):\n",
    "    if ''.join(sorted(str(num))) == ''.join([str(x) for x in range(1,size+1)]):\n",
    "        return True\n",
    "    else: return False\n",
    "    \n",
    "def isPrime(n):\n",
    "    if n == 2: return True\n",
    "    if(n < 2 or n % 2 ==0): return False\n",
    "    for i in range(3,int(n**.5)+1,2):\n",
    "        if n % i == 0:\n",
    "            return False\n",
    "    return True\n"
   ]
  },
  {
   "cell_type": "code",
   "execution_count": 2,
   "metadata": {},
   "outputs": [
    {
     "data": {
      "text/plain": [
       "7652413"
      ]
     },
     "execution_count": 2,
     "metadata": {},
     "output_type": "execute_result"
    }
   ],
   "source": [
    "#so here my assumption is that the number is going to be a 7-9 digit number we could expand range obviously though\n",
    "from itertools import permutations\n",
    "m = 0\n",
    "for i in range(7,10):\n",
    "    string = ''.join([str(p) for p in range(1,i+1)])\n",
    "    perms = [int(x) for x in [''.join(p) for p in permutations(string)]]\n",
    "    n = sorted([x for x in perms if isPrime(x) and isPandigital(x,i)], reverse=True)\n",
    "    if len(n) != 0:\n",
    "        if n[0] > m: m = n[0]\n",
    "m"
   ]
  },
  {
   "cell_type": "code",
   "execution_count": 3,
   "metadata": {},
   "outputs": [
    {
     "name": "stdout",
     "output_type": "stream",
     "text": [
      "[]\n"
     ]
    }
   ],
   "source": [
    "#A surprising result! It seems there are no 9 digit pandigitals starting with 8 or 9."
   ]
  },
  {
   "cell_type": "code",
   "execution_count": null,
   "metadata": {},
   "outputs": [],
   "source": []
  },
  {
   "cell_type": "code",
   "execution_count": null,
   "metadata": {},
   "outputs": [],
   "source": []
  }
 ],
 "metadata": {
  "kernelspec": {
   "display_name": "Python 3",
   "language": "python",
   "name": "python3"
  },
  "language_info": {
   "codemirror_mode": {
    "name": "ipython",
    "version": 3
   },
   "file_extension": ".py",
   "mimetype": "text/x-python",
   "name": "python",
   "nbconvert_exporter": "python",
   "pygments_lexer": "ipython3",
   "version": "3.6.5"
  }
 },
 "nbformat": 4,
 "nbformat_minor": 2
}
