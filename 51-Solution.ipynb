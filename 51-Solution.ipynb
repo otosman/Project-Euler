{
 "cells": [
  {
   "cell_type": "code",
   "execution_count": null,
   "metadata": {},
   "outputs": [],
   "source": [
    "'''\n",
    "By replacing the 1st digit of the 2-digit number *3, it turns out that six of the\n",
    "nine possible values: 13, 23, 43, 53, 73, and 83, are all prime.\n",
    "\n",
    "By replacing the 3rd and 4th digits of 56**3 with the same digit, this 5-digit \n",
    "number is the first example having seven primes among the ten generated numbers, yielding the family: \n",
    "56003, 56113, 56333, 56443, 56663, 56773, and 56993. Consequently 56003, being the first member of this family, \n",
    "is the smallest prime with this property.\n",
    "\n",
    "Find the smallest prime which, by replacing part of the number (not necessarily adjacent digits) \n",
    "with the same digit, is part of an eight prime value family.\n",
    "'''"
   ]
  },
  {
   "cell_type": "code",
   "execution_count": 98,
   "metadata": {},
   "outputs": [
    {
     "name": "stdout",
     "output_type": "stream",
     "text": [
      "120383 [121313, 222323, 323333, 424343, 525353, 626363, 828383, 929393]\n"
     ]
    }
   ],
   "source": [
    "from itertools import combinations\n",
    "\n",
    "def isPrime(n):\n",
    "    if n == 2: return True\n",
    "    if(n < 2 or n % 2 ==0): return False\n",
    "    for i in range(3,int(n**.5)+1,2):\n",
    "        if n % i == 0:\n",
    "            return False\n",
    "    return True\n",
    "\n",
    "def digit_replace(string, digits,replacement):\n",
    "    for x in digits:\n",
    "        if x == len(string)-1:\n",
    "            string = string[:x] + '^' \n",
    "        else:\n",
    "            string = string[:x] + '^' + string[x+1:]\n",
    "    return [string.replace('^',r) for r in replacement]\n",
    "\n",
    "found = False\n",
    "i =56000\n",
    "while found == False:\n",
    "    if isPrime(i):\n",
    "        s = str(i)\n",
    "        d_toreplace = [x for x in range(1,len(s))]\n",
    "        m = 0\n",
    "        for x in d_toreplace:\n",
    "            digits = [list(a) for a in combinations([r for r in range(len(s))],x)]\n",
    "            for y in digits:\n",
    "                count = 0\n",
    "                if 0 in y:\n",
    "                    z = [str(x) for x in range(1,10)]\n",
    "                else:\n",
    "                    z = [str(x) for x in range(10)]\n",
    "                temp = [int(p) for p in digit_replace(s,y,z) if isPrime(int(p))]\n",
    "                if len(temp) == 8:\n",
    "                    print(i, temp)\n",
    "                    found = True\n",
    "    i+=1\n",
    "                "
   ]
  }
 ],
 "metadata": {
  "kernelspec": {
   "display_name": "Python 3",
   "language": "python",
   "name": "python3"
  },
  "language_info": {
   "codemirror_mode": {
    "name": "ipython",
    "version": 3
   },
   "file_extension": ".py",
   "mimetype": "text/x-python",
   "name": "python",
   "nbconvert_exporter": "python",
   "pygments_lexer": "ipython3",
   "version": "3.6.5"
  }
 },
 "nbformat": 4,
 "nbformat_minor": 2
}
